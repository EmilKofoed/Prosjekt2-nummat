{
 "cells": [
  {
   "cell_type": "markdown",
   "metadata": {},
   "source": [
    "1 a)\n",
    "$$\n",
    "\\begin{align*}\n",
    "\\langle e^{2\\pi ik\\cdot}, e^{2\\pi ih\\cdot} \\rangle &= \\int_0^1 e^{2\\pi ikx} e^{2\\pi ihx}dx \\\\\n",
    "&= \\int_0^1 e^{2\\pi ix(k-h)}dx \\\\\n",
    "&= \\frac{1}{2\\pi i (k-h)} \\left( e^{2\\pi ix(k-h)} -1 \\right) \\\\\n",
    "\n",
    "\\end{align*}\n",
    "$$\n",
    "If we look at the case $k = h$ we get an expression on the form $\\frac{0}{0}$ so we check the limit as $k \\to h$, and use L'Hôpital's rule\n",
    "$$\n",
    "\\begin{align*}\n",
    "\\lim_{k \\to h} \\frac{\\left( e^{2\\pi ix(k-h)} -1 \\right)}{2\\pi i (k-h)} &= \\lim_{k \\to h} \\frac{2\\pi i\\left( e^{2\\pi ix(k-h)} \\right)}{2\\pi i}\\\\\n",
    "&= \\lim_{k \\to h} e^{2\\pi ix(k-h)} \\\\\n",
    "&= 1\n",
    "\\end{align*}\n",
    "$$"
   ]
  },
  {
   "cell_type": "markdown",
   "metadata": {},
   "source": [
    "## Task 1b)\n",
    "\n",
    "\n",
    "Something somethin establish orthonormal system of one-periodic functions. We start by showing that $\\sqrt 2 \\text{sin}(2 \\pi m x), m = 1,2, ..., \\text{cos}(2 \\pi 0 x) \\text{ and } \\sqrt 2 \\text{cos}(2 \\pi n x), n= 1,2,..., x \\in \\mathbb{T}$ are orthonormal using the inner product defined in the introduction, and that the special case $\\text{cos}(2 \\pi 0 x)$ is of length one under the induced norm. The following trigonometric identities will be usefull,\n",
    "$$ \n",
    "\\begin{align*}\n",
    "  \\sin x \\cos y &= \\frac{1}{2}\\big(\\sin(x + y) + \\sin(x - y)\\big).\\\\\n",
    "  \\sin x \\sin y &= \\frac{1}{2}\\big(\\cos(x - y) - \\cos(x + y)\\big)\\\\\n",
    "  \\cos x \\cos y &= \\frac{1}{2}\\big(\\cos(x - y) + \\cos(x + y)\\big)\\\\\n",
    "\\end{align*}\n",
    "\\\\\n",
    "$$\n",
    "We will also use a well known result from calculus namely, \n",
    "$$\n",
    "\\lim_{x \\to 0}\\frac{\\text{sin}(x)}{x} = 1. \n",
    "$$\n",
    "With these identities defined we start calculating the inner products. \n",
    "$$\n",
    "\\langle \\sqrt 2 \\text{sin}(2 \\pi n \\cdot), \\sqrt 2 \\text{cos}(2 \\pi m \\cdot) \\rangle = \\int_{0}^{1} \\sqrt 2 \\text{sin}(2 \\pi m x) \\space \\sqrt 2 \\text{cos}(2 \\pi n x) \\space dx = 2 \\int_{0}^{1} \\text{sin}(2 \\pi m x) \\space \\text{cos}(2 \\pi n x) \\space dx\n",
    "\\\\\n",
    "$$ \n",
    "using the first trigonometric identity we obtain the following integral,\n",
    "$$\n",
    "\\begin{align*}\n",
    "&\\int_{0}^{1} \\text{sin}(2\\pi nx + 2 \\pi mx) + \\text{sin}(2 \\pi nx- 2 \\pi mx) dx \\\\\n",
    "= &\\int_{0}^{1} \\text{sin}(2\\pi x (n +m)) + \\text{sin}(2 \\pi x (n-m)) dx\n",
    "\\end{align*}\n",
    "\\\\\n",
    "$$\n",
    "These integrals are not necessary to compute, Sine is an odd periodic-function, and the integral of an odd function over an integer number of periods is zero. Therefore, $$\\langle \\sqrt 2 \\text{sin}(2 \\pi n \\cdot), \\sqrt 2 \\text{cos}(2 \\pi m \\cdot) \\rangle = 0, n = 1,2,..., m = 1,2,... \\iff \\text{ The functions are orthogonal for all natural numbers, } m \\text{ and } n.\n",
    "\\\\ $$ \n",
    "We procede by showing that the functions are orthogonal to themselves when $m \\neq n.$\n",
    "$$\n",
    "\\langle \\sqrt 2 \\text{sin}(2 \\pi n x), \\sqrt 2 \\text{sin}(2 \\pi m x) \\rangle = 2 \\int_{0}^{1} \\text{sin}(2 \\pi n x) \\space \\text{sin}(2 \\pi m x) dx.\n",
    "$$\n",
    "The second trigonometric identity gives us the new integral, \n",
    "$$\n",
    "\\begin{align*}\n",
    "\\int_{0}^{1} \\text{cos}(2 \\pi n x - 2 \\pi m x) - \\text{cos}(2 \\pi n x+2 \\pi m x) dx &= \\int_{0}^{1} \\text{cos}(2 \\pi x(n - m )) - \\text{cos}(2 \\pi x (n + m )) dx \\\\\n",
    "\\begin{bmatrix}\\frac{\\text{sin}(2 \\pi (n-m)x)}{2 \\pi (n-m)} - \\frac{\\text{sin}(2 \\pi (n+m)x)}{2 \\pi (n+m)} \\end{bmatrix}_{0}^{1} &= \\frac{\\text{sin}(2 \\pi (n-m))}{2 \\pi (n-m)} - \\frac{\\text{sin}(2 \\pi (n+m))}{2 \\pi (n+m)}\n",
    "\\end{align*}\n",
    "$$\n",
    "The last term is always zero, because the argument is always of the form $2 \\pi \\cdot k$, where $k$ is some positive integer. The same is true for the first term, except when $m=n$, from the aforementioned calculus result, we know that it is equal to 1. \n",
    "$$\n",
    "\\langle \\sqrt 2 \\text{sin}(2 \\pi n x), \\sqrt 2 \\text{sin}(2 \\pi m x) \\rangle = \n",
    "\\begin{cases}\n",
    "      0 & \\text{if } m \\neq n \\\\\n",
    "      1 & \\text{if } m = n\n",
    "\\end{cases}\n",
    "$$\n",
    "They are orthogonal, and the induced norm is just taking the square root of the inner product, this yields that $ \\sqrt 2 \\text{sin}(2 \\pi n x)$ is of unit length, i.e. 1. Hence, we have orthonormality.  \n",
    "\n",
    "The last inner product to be proven, which includes the special case $\\sqrt 2 \\text{cos}(2 \\pi 0 \\cdot)$ is \n",
    "$$ \\langle \\sqrt 2 \\text{cos}(2 \\pi n \\cdot), \\sqrt 2 \\text{cos}(2 \\pi m \\cdot) \\rangle = 2 \\int_{0}^{1} \\text{cos}(2 \\pi n x) \\space \\text{cos}(2 \\pi m x) dx\n",
    "$$\n",
    "We now use the last trigonometric identity and factorize the arguments to get the following integral,  \n",
    "$$\n",
    "\\int_{0}^{1} \\text{cos}(2 \\pi (n-m) x ) + \\text{cos}(2 \\pi (m+n) x) dx \n",
    "$$ \n",
    "which is almost identical to the previous integral except for a change of sign in the last term. However, since that term, as previously explained, is always zero. We get the exact same result as before, except for the special case of $m=n=0$. In the special case both terms are of the form $$\\lim_{x \\to 0}\\frac{\\text{sin}(x)}{x} = 1.$$ With this information at hand we summarize the inner product as\n",
    "$$\n",
    "\\langle \\sqrt 2 \\text{cos}(2 \\pi n \\cdot), \\sqrt 2 \\text{cos}(2 \\pi m \\cdot) \\rangle = \n",
    "\\begin{cases}\n",
    "      0 & \\text{if } m \\neq n \\\\\n",
    "      1 & \\text{if } m = n    \\\\\n",
    "      2 & \\text{if } m = n = 0\n",
    "\\end{cases}\n",
    "$$\n",
    "\n",
    "\n"
   ]
  },
  {
   "cell_type": "markdown",
   "metadata": {},
   "source": [
    "### Task 1c)\n",
    "\n",
    "# Emil Legger inn orthonormal basis\n",
    "\n",
    "We have that\n",
    "$$\n",
    "\\mathcal{S}_n = \\left\\{ f \\Bigg\\vert f(x) = \\frac{a_0}{2} + \\sum_{k=1}^n a_k \\cos{2\\pi k x } + b_k \\sin{2 \\pi k x}, a_0,...,a_n,b_1,...,b_n \\in \\mathbb{R} \\right\\}\n",
    "\n",
    "$$\n",
    "\n",
    "Looking at the sum and using Euler's identity we can rewrite as\n",
    "\n",
    "$$\n",
    "\\begin{align*}\n",
    "\\frac{a_0}{2} + \\sum_{k=1}^n a_k \\cos{2\\pi k x } + b_k \\sin{2 \\pi k x} &= \\frac{a_0}{2} + \\sum_{k=1}^n a_k \\left(\\frac{e^{2\\pi k x i} + e^{-2\\pi k x i}}{2} \\right) + b_k \\left(\\frac{e^{2\\pi k x i} - e^{-2\\pi k x i}}{2i} \\right) \\\\\n",
    "&= \\frac{a_0}{2} + \\sum_{k=1}^n \\left(\\frac{a_k-ib_k}{2} \\right)e^{2 \\pi k x i} + \\sum_{k=1}^n \\left(\\frac{a_k+ib_k}{2} \\right)e^{-2 \\pi k x i}\n",
    "\\end{align*}\n",
    "$$\n",
    "\n",
    "Defining $c_k = \\frac{a_k-ib_k}{2}$, $\\bar{c}_k = \\frac{a_k+ib_k}{2}$ and $c_0 = \\frac{a_0}{2}$\n",
    "\n",
    "Our sum now looks like this\n",
    "\n",
    "$$\n",
    "\\begin{align*}\n",
    "\n",
    "c_0 + \\sum_{k=1}^n c_k e^{2 \\pi k x i} + \\sum_{k=1}^n \\bar{c}_ke^{-2 \\pi k x i} &= c_0 + \\sum_{k=1}^n c_k e^{2 \\pi k x i} + \\sum_{k=-1}^{-n} \\bar{c}_{-k}e^{2 \\pi k x i}\n",
    "\\end{align*}\n",
    "$$\n",
    "\n",
    "Now combining the sum, with the coefficients $c_{k} = \\bar{c}_{-k}, k = 1,...,n$ we finally get\n",
    "\n",
    "$$\n",
    "\\sum_{k=-n}^n c_ke^{2 \\pi k x i}\n",
    "$$\n",
    "\n",
    "Which is $\\text{span} (\\mathcal{T}_n)$ so they are the same space. This means they must have the same dimension. Since the basis of $\\mathcal{S}_n$ consists of $N +1$ Cosine functions, and $N-1$ Sine functions. \n"
   ]
  },
  {
   "cell_type": "markdown",
   "metadata": {},
   "source": [
    "#### 1d) Emil Fletter sammen med 1c) når Sofus har lastet det opp\n",
    "\n",
    "We can now deduce how to calculate the coefficients $a_k \\text{ and } b_k$.\n",
    "$$\n",
    "\\begin{align*}\n",
    "f(x) = \\frac{a_0}{2} + \\sum_{j=1}^{n} a_j \\text{cos}(2 \\pi j x) + b_j \\text{sin}(2 \\pi j x) \\\\\n",
    "\\end{align*}\n",
    "$$\n",
    "We now multiply both sides by $ \\text{cos}(2 \\pi k x) $ and integrate each side over the interval $[-\\frac{1}{2}, \\frac{1}{2})$. This results in every term, other than the k-th, to be zero, because of the aforementioned inner products. This yields this equation  \n",
    "\n",
    "\n"
   ]
  },
  {
   "cell_type": "markdown",
   "metadata": {},
   "source": [
    "# 1e) mr. sofusbu"
   ]
  },
  {
   "cell_type": "markdown",
   "metadata": {},
   "source": [
    "# 1f) Emil "
   ]
  },
  {
   "cell_type": "markdown",
   "metadata": {},
   "source": [
    "# 1g) very hard\n"
   ]
  },
  {
   "cell_type": "markdown",
   "metadata": {},
   "source": [
    "1 e) \n",
    "\n",
    "The composite trapezoid rule for equally spaced points is\n",
    "\n",
    "$$\n",
    "\\int_a^b f(x) dx= \\Delta x \\left( \\frac{f_N+f_0}{2} + \\sum_{j=1}^{N-1} f_j \\right)\n",
    "$$\n",
    "\n",
    "Using the definition of $c_k(f)$ with the trapeziodal rule we get\n",
    "$$\n",
    "c_k(f) = \\langle f, e^{2\\pi i k \\cdot} \\rangle = \\int_{-\\frac{1}{2}}^{\\frac{1}{2}} f e^{-2\\pi i k x }dx \\\\\n",
    "\\approx \\Delta x \\left( \\frac{ f_N e^{-2\\pi i k x_N} + f_0e^{-2\\pi i k x_0 }}{2} + \\sum_{j=1}^{N-1} f_j e^{-2\\pi i k x_j } \\right)\n",
    "$$\n",
    "\n",
    "Now replacing $\\Delta x = \\frac{b-a}{N} = \\frac{\\frac{1}{2}+\\frac{1}{2}}{N} = \\frac{1}{N}$ and $x_j = \\frac{j}{N}$, specifically $x_0 = 0, x_N = 1$ and since $f \\in \\mathcal{S}_n$ we know that it is $1$-periodic and therefore $N$-periodic and $f_N = f_0$, we get that\n",
    "\n",
    "$$\n",
    "\\begin{align*}\n",
    "\\frac{1}{N} \\left( \\frac{f_N e^{-2 \\pi i k} + f_0 e^{-2 \\pi i k 0}}{2} + \\sum_{j=1}^{N-1} f_j e^{-2 \\pi i k j/N} \\right) &= \\frac{1}{N} \\left( \\frac{f_0 + f_0}{2} + \\sum_{j=1}^{N-1} f_j e^{-2 \\pi i k j/N} \\right) = \\frac{1}{N} \\sum_{j=0}^{N-1} f_j e^{-2 \\pi i k j/N}\n",
    "\\end{align*}\n",
    "$$\n",
    "\n",
    "Since $f_j$ is $N$-periodic for all $j$, it must follow that $\\hat{f}_k$ is an $N$-periodic function. Since we have every discrete function value in one period, we know everything there is to know about the function, since we can extend the function with $n$ periods. "
   ]
  },
  {
   "cell_type": "markdown",
   "metadata": {},
   "source": [
    "### Task 1h)"
   ]
  },
  {
   "cell_type": "code",
   "execution_count": 20,
   "metadata": {},
   "outputs": [],
   "source": [
    "from scipy import fft\n",
    "import numpy as np\n",
    "import matplotlib.pyplot as plt"
   ]
  },
  {
   "cell_type": "code",
   "execution_count": 21,
   "metadata": {},
   "outputs": [],
   "source": [
    "def transform(f,N,start=0.0):\n",
    "    x = np.linspace(start, start+1,N,endpoint=False)\n",
    "    return fft.fft(f(x), N)"
   ]
  },
  {
   "cell_type": "code",
   "execution_count": 22,
   "metadata": {},
   "outputs": [],
   "source": [
    "f1 = lambda x : np.sin(8*np.pi*x)\n",
    "f2 = lambda x : np.sin(32*np.pi*x) + np.cos(128*np.pi*x)\n",
    "f3 = lambda x : x\n",
    "f4 = lambda x : 1 - np.abs(x)"
   ]
  },
  {
   "cell_type": "code",
   "execution_count": 23,
   "metadata": {},
   "outputs": [
    {
     "data": {
      "image/png": "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",
      "text/plain": [
       "<Figure size 432x288 with 1 Axes>"
      ]
     },
     "metadata": {
      "needs_background": "light"
     },
     "output_type": "display_data"
    },
    {
     "name": "stdout",
     "output_type": "stream",
     "text": [
      "test\n"
     ]
    }
   ],
   "source": [
    "plt.plot(fft.fftfreq(257,1/(256))*2, -transform(f2,257,-0.5).imag)\n",
    "plt.plot(fft.fftfreq(257,1/(256))*2, -transform(f2,257,-0.5).real)\n",
    "plt.xticks(np.arange(-105, 110, 15)*2)\n",
    "plt.show()\n",
    "print(\"test\")"
   ]
  },
  {
   "cell_type": "markdown",
   "metadata": {},
   "source": [
    "### Task 1i)"
   ]
  },
  {
   "cell_type": "code",
   "execution_count": 81,
   "metadata": {},
   "outputs": [
    {
     "data": {
      "image/png": "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",
      "text/plain": [
       "<Figure size 640x480 with 3 Axes>"
      ]
     },
     "metadata": {},
     "output_type": "display_data"
    }
   ],
   "source": [
    "a = -0.5\n",
    "plt.subplots(3,1)\n",
    "for i,n in enumerate([17,65,257]):\n",
    "    plt.subplot(3,1,i+1)\n",
    "    plt.plot(np.linspace(-n,n,n),fft.fftshift(transform(f2,n,-0.5)).real, label=\"$\\Re \\hat{f}_k$\")\n",
    "    plt.plot(np.linspace(-n,n,n),fft.fftshift(transform(f2,n,-0.5)).imag, label=\"$\\Im \\hat{f}_k$\")\n",
    "    plt.legend()\n",
    "plt.show()"
   ]
  }
 ],
 "metadata": {
  "kernelspec": {
   "display_name": "Python 3.10.7 64-bit",
   "language": "python",
   "name": "python3"
  },
  "language_info": {
   "codemirror_mode": {
    "name": "ipython",
    "version": 3
   },
   "file_extension": ".py",
   "mimetype": "text/x-python",
   "name": "python",
   "nbconvert_exporter": "python",
   "pygments_lexer": "ipython3",
   "version": "3.10.7"

  },
  {
   "cell_type": "markdown",
   "metadata": {},
   "source": [
    "$$  \\hat{f_k} =  \\frac{1}{N} \\sum^{n-1}_{j = 0}   f_j e^{- 2 \\pi i j k /N} $$\n",
    "$$ f(x) = \\sum c_k(f) e^{2 \\pi i k x} \\Rightarrow$$\n",
    "$$ f_k =  \\frac{1}{N} \\sum^{n-1}_{j = 0}   (\\sum_{r \\in \\mathbb{Z}} c_r e^{2 \\pi i r j / N} ) e^{- 2 \\pi i j k /N} $$\n",
    "\n",
    "\n",
    "$$ f_k =  \\frac{1}{N} \\sum^{n-1}_{j = 0}   (\\sum_{r \\in \\mathbb{Z}} c_r e^{2 \\pi i j (r- k) / N} ) $$\n",
    "\n",
    "$$ f_k =  \\frac{1}{N} \\sum_{r \\in \\mathbb{Z}} c_r  \\sum^{n-1}_{j = 0}   e^{2 \\pi i j (r- k) / N}  $$\n",
    "\n",
    "if we insert $r = k + l * N$ we get \n",
    "$$ f_k =  \\frac{1}{N} \\sum_{r \\in \\mathbb{Z}} c_{l*n + k}  \\sum^{n-1}_{j = 0}   e^{2 \\pi i j (l*N)/N}  $$\n",
    "$$ f_k =  \\frac{1}{N} \\sum_{r \\in \\mathbb{Z}} c_{l*n + k}  N $$\n",
    "$$ f_k =  \\sum_{r \\in \\mathbb{Z}} c_{l*n + k}  $$\n",
    "\n",
    "### 2b)\n",
    "$$c_k (\\tau_n f) = \\langle \\tau_N f, e^{2 \\pi i k x} \\rangle  = \\int_0^1 \\tau_N f(x) e^{ - 2 \\pi i k x} = \\int_0^1 f(x - 1/N) e^{ - 2 \\pi i k x} $$\n",
    "\n",
    "Making the substituion $x' = x - 1/N$ we get \n",
    "$$\\int_0^1 f(x - 1/N) e^{ - 2 \\pi i k x} = \\int_{-1/N}^{1-1/N}  f(x') e^{ - 2 \\pi i k (x'+1/N)} = \\int_{-1/N}^{1-1/N}  f(x') e^{ - 2 \\pi i k x'} e^{ - 2 \\pi i k/N}$$\n",
    "Since f is 1-periodic we have $$\\int_{-1/N}^{1-1/N}  f(x') e^{ - 2 \\pi i k x'} = \\int_{0}^{1}  f(x) e^{ - 2 \\pi i k x'} = c_k$$\n",
    "which yields the desired result:\n",
    "$$c_k (\\tau_n f) = c_k e^{ - 2 \\pi i k/N}$$\n",
    "\n",
    "To state a formula for $c_k(\\tau_N^j f)$ we use the same method as above, but with $ \\tau_N^j f = f(x-j/N)$ and the substitution $x' = x- j/N$ to arrive at the the result $$c_k (\\tau_n^j f) = c_k e^{ - 2 \\pi i j k/N}$$\n",
    "### task 2c)\n",
    "$$G(x) = \\sum_{j=0}^{N-1} a_j f(x - \\frac{j}{N}) =  \\sum_{j=0}^{N-2} a_j f(x - \\frac{j}{N}) + a_{N-1} f(x - 1 + 1/N) $$\n",
    "$$\\Tau_N g = g(x - 1/N) =  \\sum_{j=0}^{N-2} a_j f(x - \\frac{j+1}{N}) + a_{N-1} f(x-1)   =$$\n",
    "\n",
    "Notice $f(x-1) = f(x)$. Set $j = k-1$ and $a_{N-1} = a_0$. The indexing of the coefficient is arbitrary, so this is possible\n",
    "\n",
    "$$  a_0 f(x) + \\sum_{k=1}^{N-1} a_k f(x - \\frac{k}{N}) =  \\sum_{k=0}^{N-1} a_k f(x - \\frac{k}{N}) \\in V_N $$\n",
    "Because $k = j + 1$, we se that the coefficients of $\\tau_N g$ are shifted one step from $g$ \n",
    "task 2 d)\n",
    "We want to prove that $$ G = (\\langle \\tau_N^l f, \\tau_N^jf \\rangle )^{N-1}_{l,j = 0} \\in \\mathbb(C)^{N x N}$$ is a circular matrix. For ease of notatian we write $(\\langle \\tau_N^l f, \\tau_N^jf\\rangle )$ as $\\langle l^*, j^* \\rangle $ \\\\\n",
    "The matrix C is then given as \n",
    "$$\n",
    "C = \\begin{bmatrix} \n",
    "    \\langle 0, 0 \\rangle & \\langle 0, 1 \\rangle & \\dots   & \\langle 0, N-1 \\rangle\\\\\n",
    "    \\langle 1, 0 \\rangle & \\langle 1, 1 \\rangle & & \\vdots \\\\\n",
    "    \\vdots &  & \\ddots &\\vdots \\\\\n",
    "    \\langle N-1, 0 \\rangle & \\dots  & \\dots & \\langle N-1, N-1 \\rangle \n",
    "    \\end{bmatrix}\n",
    "\n",
    "$$\n",
    "\n",
    "We apply Parsevals identity $$ \\langle  f, g \\rangle = \\sum_{k\\in \\mathbb{Z}} c_k(f) c_k(g)$$ to the inner product $\\langle \\tau_N^l f, \\tau_N^jf\\rangle $. Together with the result $c_k (\\tau_n^j f) = c_k e^{ - 2 \\pi i j k/N}$ from $2b)$ we get \n",
    "$$\\langle \\tau_N^l f, \\tau_N^jf\\rangle = \\sum_{k\\in \\mathbb{Z}} c_k e^{-2 \\pi i l k /N} \\overline{c_k e^{-2 \\pi i j k /N}}  $$\n",
    "$$ = \\sum_{k\\in \\mathbb{Z}} |c_k|^2 e^{-2 \\pi i l k /N}  e^{2 \\pi i j k /N} =\\sum_{k\\in \\mathbb{Z}}  |c_k|^2 e^{2 \\pi i k (j - l) /N}$$\n",
    "\n",
    "As we see, the difference $d = (j-l)$ is what determines the inner product. We construct a matrix $C^*$ with each entry being $d$ when it is non-negative and $N + d$ when it is negative. This does not change the actual value, as N is a whole number mulitplied by $2 \\pi $. We then get\n",
    "$$\n",
    "C^* = \\begin{bmatrix} \n",
    "    0 & 1 &  2 & \\dots & N-1 \\\\\n",
    "    N-1 & 0 &  1 & & \\vdots \\\\\n",
    "    N -2 & N-1 & 0 & & \\vdots \\\\\n",
    "    \\vdots & & & \\ddots & \\vdots \\\\\n",
    "    1 & & & & 0 \\\\\n",
    "    \\end{bmatrix}\n",
    "\n",
    "$$\n",
    "Which is circular. Since the values in $C^*$ uniquely determine the values in $C$, $C$ must also b circular.\n",
    "\n",
    "\n",
    "The diagonal matrix of C looks like $\\sum_{k\\in \\mathbb{Z}}  |c_k|^2 e^{2 \\pi i k * 0 /N}  = \\sum_{k\\in \\mathbb{Z}}  |c_k|^2 $\n",
    "$ g \\in V_{N,f} \\Rightarrow g = \\sum_{j=0}^{n-1} a_j f(x - 1/N) = \\sum_{j=0}^{n-1} a_j \\tau_N^j f(x)$\n",
    "\n",
    "$$c_k(g) = \\langle \\sum_{j=0}^{n-1} a_j \\tau_N^j f , e^{2 \\pi k} \\rangle $$\n",
    "$$    = \\sum_{j=0}^{n-1} a_j \\langle  \\tau_N^j f , e^{2 \\pi k} \\rangle $$\n",
    "$$= \\sum_{j=0}^{n-1} a_j c_k(\\tau_N^j f) $$\n",
    "\n",
    "$$= \\sum_{j=0}^{n-1} a_j c_k(f) * e^{2 \\pi i j k /N} $$\n",
    "\n",
    "$$= (\\sum_{j=0}^{n-1} a_j * e^{2 \\pi i j k /N} )  c_k(f) $$\n",
    "### Task 2f)\n",
    "$$\\hat{i} = \\frac{1}{N} \\sum^{N-1}_{j=0} I(x_j) e^{- 2 \\pi i j k / N}  = \\frac{1}{N}$$\n",
    "\n",
    "$$ C_k(I) = N \\hat{a} C_k(f) $$\n",
    "\n",
    "$$\\hat{i} = \\sum_{h \\in \\mathbb{Z}} C_{h+Nz}(I) = \\sum_{h \\in \\mathbb{Z}} N \\hat{a} C_{h+Nz}(f) $$\n",
    "$$ = N \\hat{a}  \\sum_{h \\in \\mathbb{Z}} C_{h+Nz}(f) = \\frac{1}{N}$$\n",
    "\n",
    "$$\\Rightarrow \\sum_{h \\in \\mathbb{Z}} C_{h+Nz}(f) \\neq 0 \\; \\; \\forall h $$"

   ]
  }
 ]

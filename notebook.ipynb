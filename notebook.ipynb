{
 "cells": [
  {
   "cell_type": "markdown",
   "metadata": {},
   "source": [
    "## Task 1b)\n",
    "\n",
    "\n",
    "Something somethin establish orthonormal system of one-periodic functions. We start by showing that $\\sqrt 2 \\text{sin}(2 \\pi m x), m = 1,2, ..., \\text{cos}(2 \\pi 0 x) \\text{ and } \\sqrt 2 \\text{cos}(2 \\pi n x), n= 1,2,..., x \\in \\mathbb{T}$ are orthonormal using the inner product defined in the introduction, and that the special case $\\text{cos}(2 \\pi 0 x)$ is of length one under the induced norm. The following trigonometric identities will be usefull,\n",
    "$$ \n",
    "\\begin{align*}\n",
    "  \\sin x \\cos y &= \\frac{1}{2}\\big(\\sin(x + y) + \\sin(x - y)\\big).\\\\\n",
    "  \\sin x \\sin y &= \\frac{1}{2}\\big(\\cos(x - y) - \\cos(x + y)\\big)\\\\\n",
    "  \\cos x \\cos y &= \\frac{1}{2}\\big(\\cos(x - y) + \\cos(x + y)\\big)\\\\\n",
    "\\end{align*}\n",
    "\\\\\n",
    "$$\n",
    "We will also use a well known result from calculus namely, \n",
    "$$\n",
    "\\lim_{x \\to 0}\\frac{\\text{sin}(x)}{x} = 1. \n",
    "$$\n",
    "With these identities defined we start calculating the inner products. \n",
    "$$\n",
    "\\langle \\sqrt 2 \\text{sin}(2 \\pi n \\cdot), \\sqrt 2 \\text{cos}(2 \\pi m \\cdot) \\rangle = \\int_{0}^{1} \\sqrt 2 \\text{sin}(2 \\pi m x) \\space \\sqrt 2 \\text{cos}(2 \\pi n x) \\space dx = 2 \\int_{0}^{1} \\text{sin}(2 \\pi m x) \\space \\text{cos}(2 \\pi n x) \\space dx\n",
    "\\\\\n",
    "$$ \n",
    "using the first trigonometric identity we obtain the following integral,\n",
    "$$\n",
    "\\begin{align*}\n",
    "&\\int_{0}^{1} \\text{sin}(2\\pi nx + 2 \\pi mx) + \\text{sin}(2 \\pi nx- 2 \\pi mx) dx \\\\\n",
    "= &\\int_{0}^{1} \\text{sin}(2\\pi x (n +m)) + \\text{sin}(2 \\pi x (n-m)) dx\n",
    "\\end{align*}\n",
    "\\\\\n",
    "$$\n",
    "These integrals are not necessary to compute, Sine is an odd periodic-function, and the integral of an odd function over an integer number of periods is zero. Therefore, $$\\langle \\sqrt 2 \\text{sin}(2 \\pi n \\cdot), \\sqrt 2 \\text{cos}(2 \\pi m \\cdot) \\rangle = 0, n = 1,2,..., m = 1,2,... \\iff \\text{ The functions are orthogonal for all natural numbers, } m \\text{ and } n.\n",
    "\\\\ $$ \n",
    "We procede by showing that the functions are orthogonal to themselves when $m \\neq n.$\n",
    "$$\n",
    "\\langle \\sqrt 2 \\text{sin}(2 \\pi n x), \\sqrt 2 \\text{sin}(2 \\pi m x) \\rangle = 2 \\int_{0}^{1} \\text{sin}(2 \\pi n x) \\space \\text{sin}(2 \\pi m x) dx.\n",
    "$$\n",
    "The second trigonometric identity gives us the new integral, \n",
    "$$\n",
    "\\begin{align*}\n",
    "\\int_{0}^{1} \\text{cos}(2 \\pi n x - 2 \\pi m x) - \\text{cos}(2 \\pi n x+2 \\pi m x) dx &= \\int_{0}^{1} \\text{cos}(2 \\pi x(n - m )) - \\text{cos}(2 \\pi x (n + m )) dx \\\\\n",
    "\\begin{bmatrix}\\frac{\\text{sin}(2 \\pi (n-m)x)}{2 \\pi (n-m)} - \\frac{\\text{sin}(2 \\pi (n+m)x)}{2 \\pi (n+m)} \\end{bmatrix}_{0}^{1} &= \\frac{\\text{sin}(2 \\pi (n-m))}{2 \\pi (n-m)} - \\frac{\\text{sin}(2 \\pi (n+m))}{2 \\pi (n+m)}\n",
    "\\end{align*}\n",
    "$$\n",
    "The last term is always zero, because the argument is always of the form $2 \\pi \\cdot k$, where $k$ is some positive integer. The same is true for the first term, except when $m=n$, from the aforementioned calculus result, we know that it is equal to 1. \n",
    "$$\n",
    "\\langle \\sqrt 2 \\text{sin}(2 \\pi n x), \\sqrt 2 \\text{sin}(2 \\pi m x) \\rangle = \n",
    "\\begin{cases}\n",
    "      0 & \\text{if } m \\neq n \\\\\n",
    "      1 & \\text{if } m = n\n",
    "\\end{cases}\n",
    "$$\n",
    "They are orthogonal, and the induced norm is just taking the square root of the inner product, this yields that $ \\sqrt 2 \\text{sin}(2 \\pi n x)$ is of unit length, i.e. 1. Hence, we have orthonormality.  \n",
    "\n",
    "The last inner product to be proven, which includes the special case $\\sqrt 2 \\text{cos}(2 \\pi 0 \\cdot)$ is \n",
    "$$ \\langle \\sqrt 2 \\text{cos}(2 \\pi n \\cdot), \\sqrt 2 \\text{cos}(2 \\pi m \\cdot) \\rangle = 2 \\int_{0}^{1} \\text{cos}(2 \\pi n x) \\space \\text{cos}(2 \\pi m x) dx\n",
    "$$\n",
    "We now use the last trigonometric identity and factorize the arguments to get the following integral,  \n",
    "$$\n",
    "\\int_{0}^{1} \\text{cos}(2 \\pi (n-m) x ) + \\text{cos}(2 \\pi (m+n) x) dx \n",
    "$$ \n",
    "which is almost identical to the previous integral except for a change of sign in the last term. However, since that term, as previously explained, is always zero. We get the exact same result as before, except for the special case of $m=n=0$. In the special case both terms are of the form $$\\lim_{x \\to 0}\\frac{\\text{sin}(x)}{x} = 1.$$ With this information at hand we summarize the inner product as\n",
    "$$\n",
    "\\langle \\sqrt 2 \\text{cos}(2 \\pi n \\cdot), \\sqrt 2 \\text{cos}(2 \\pi m \\cdot) \\rangle = \n",
    "\\begin{cases}\n",
    "      0 & \\text{if } m \\neq n \\\\\n",
    "      1 & \\text{if } m = n    \\\\\n",
    "      2 & \\text{if } m = n = 0\n",
    "\\end{cases}\n",
    "$$\n",
    "\n",
    "\n"
   ]
  },
  {
   "cell_type": "markdown",
   "metadata": {},
   "source": [
    "### Task 1c)\n",
    "\n",
    "Sofus gjør det\n"
   ]
  },
  {
   "cell_type": "markdown",
   "metadata": {},
   "source": [
    "#### Emil Fletter sammen med 1c) når Sofus har lastet det opp\n",
    "\n",
    "We can now deduce how to calculate the coefficients $a_k \\text{ and } b_k$.\n",
    "$$\n",
    "\\begin{align*}\n",
    "f(x) = \\frac{a_0}{2} + \\sum_{j=1}^{n} a_j \\text{cos}(2 \\pi j x) + b_j \\text{sin}(2 \\pi j x) \\\\\n",
    "\\end{align*}\n",
    "$$\n",
    "We now multiply both sides by $ \\text{cos}(2 \\pi k x) $ and integrate each side over the interval $[-\\frac{1}{2}, \\frac{1}{2})$. This results in every term, other than the k-th, to be zero, because of the aforementioned inner products. This yields this equation  \n",
    "\n",
    "\n"
   ]
  },
  {
   "cell_type": "markdown",
   "metadata": {},
   "source": [
    "\n",
    "hei dette er"
   ]
  },
  {
   "cell_type": "markdown",
   "metadata": {},
   "source": [
    "test"
   ]
  }
 ],
 "metadata": {
  "kernelspec": {
   "display_name": "Python 3.9.12 ('base')",
   "language": "python",
   "name": "python3"
  },
  "language_info": {
   "codemirror_mode": {
    "name": "ipython",
    "version": 3
   },
   "file_extension": ".py",
   "mimetype": "text/x-python",
   "name": "python",
   "nbconvert_exporter": "python",
   "pygments_lexer": "ipython3",
   "version": "3.9.12"
  },
  "orig_nbformat": 4,
  "vscode": {
   "interpreter": {
    "hash": "08a4c70043726e5f832ec7127b7ccfdc6056c84fa47e78a1d7cafc9f82ce7981"
   }
  }
 },
 "nbformat": 4,
 "nbformat_minor": 2
}

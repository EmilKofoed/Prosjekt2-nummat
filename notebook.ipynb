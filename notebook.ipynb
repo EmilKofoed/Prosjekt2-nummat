{
 "cells": [
  {
   "cell_type": "markdown",
   "metadata": {},
   "source": [
    "1 a)\n",
    "$$\n",
    "\\begin{align*}\n",
    "\\langle e^{2\\pi ik\\cdot}, e^{2\\pi ih\\cdot} \\rangle &= \\int_0^1 e^{2\\pi ikx} e^{2\\pi ihx}dx \\\\\n",
    "&= \\int_0^1 e^{2\\pi ix(k-h)}dx \\\\\n",
    "&= \\frac{1}{2\\pi i (k-h)} \\left( e^{2\\pi ix(k-h)} -1 \\right) \\\\\n",
    "\n",
    "\\end{align*}\n",
    "$$\n",
    "If we look at the case $k = h$ we get an expression on the form $\\frac{0}{0}$ so we check the limit as $k \\to h$, and use L'Hôpital's rule\n",
    "$$\n",
    "\\begin{align*}\n",
    "\\lim_{k \\to h} \\frac{\\left( e^{2\\pi ix(k-h)} -1 \\right)}{2\\pi i (k-h)} &= \\lim_{k \\to h} \\frac{2\\pi i\\left( e^{2\\pi ix(k-h)} \\right)}{2\\pi i}\\\\\n",
    "&= \\lim_{k \\to h} e^{2\\pi ix(k-h)} \\\\\n",
    "&= 1\n",
    "\\end{align*}\n",
    "$$"
   ]
  },
  {
   "cell_type": "markdown",
   "metadata": {},
   "source": [
    "## Task 1b)\n",
    "\n",
    "\n",
    "Something somethin establish orthonormal system of one-periodic functions. We start by showing that $\\sqrt 2 \\text{sin}(2 \\pi m x), m = 1,2, ..., \\text{cos}(2 \\pi 0 x) \\text{ and } \\sqrt 2 \\text{cos}(2 \\pi n x), n= 1,2,..., x \\in \\mathbb{T}$ are orthonormal using the inner product defined in the introduction, and that the special case $\\text{cos}(2 \\pi 0 x)$ is of length one under the induced norm. The following trigonometric identities will be usefull,\n",
    "$$ \n",
    "\\begin{align*}\n",
    "  \\sin x \\cos y &= \\frac{1}{2}\\big(\\sin(x + y) + \\sin(x - y)\\big).\\\\\n",
    "  \\sin x \\sin y &= \\frac{1}{2}\\big(\\cos(x - y) - \\cos(x + y)\\big)\\\\\n",
    "  \\cos x \\cos y &= \\frac{1}{2}\\big(\\cos(x - y) + \\cos(x + y)\\big)\\\\\n",
    "\\end{align*}\n",
    "\\\\\n",
    "$$\n",
    "We will also use a well known result from calculus namely, \n",
    "$$\n",
    "\\lim_{x \\to 0}\\frac{\\text{sin}(x)}{x} = 1. \n",
    "$$\n",
    "With these identities defined we start calculating the inner products. \n",
    "$$\n",
    "\\langle \\sqrt 2 \\text{sin}(2 \\pi n \\cdot), \\sqrt 2 \\text{cos}(2 \\pi m \\cdot) \\rangle = \\int_{0}^{1} \\sqrt 2 \\text{sin}(2 \\pi m x) \\space \\sqrt 2 \\text{cos}(2 \\pi n x) \\space dx = 2 \\int_{0}^{1} \\text{sin}(2 \\pi m x) \\space \\text{cos}(2 \\pi n x) \\space dx\n",
    "\\\\\n",
    "$$ \n",
    "using the first trigonometric identity we obtain the following integral,\n",
    "$$\n",
    "\\begin{align*}\n",
    "&\\int_{0}^{1} \\text{sin}(2\\pi nx + 2 \\pi mx) + \\text{sin}(2 \\pi nx- 2 \\pi mx) dx \\\\\n",
    "= &\\int_{0}^{1} \\text{sin}(2\\pi x (n +m)) + \\text{sin}(2 \\pi x (n-m)) dx\n",
    "\\end{align*}\n",
    "\\\\\n",
    "$$\n",
    "These integrals are not necessary to compute, Sine is an odd periodic-function, and the integral of an odd function over an integer number of periods is zero. Therefore, $$\\langle \\sqrt 2 \\text{sin}(2 \\pi n \\cdot), \\sqrt 2 \\text{cos}(2 \\pi m \\cdot) \\rangle = 0, n = 1,2,..., m = 1,2,... \\iff \\text{ The functions are orthogonal for all natural numbers, } m \\text{ and } n.\n",
    "\\\\ $$ \n",
    "We procede by showing that the functions are orthogonal to themselves when $m \\neq n.$\n",
    "$$\n",
    "\\langle \\sqrt 2 \\text{sin}(2 \\pi n x), \\sqrt 2 \\text{sin}(2 \\pi m x) \\rangle = 2 \\int_{0}^{1} \\text{sin}(2 \\pi n x) \\space \\text{sin}(2 \\pi m x) dx.\n",
    "$$\n",
    "The second trigonometric identity gives us the new integral, \n",
    "$$\n",
    "\\begin{align*}\n",
    "\\int_{0}^{1} \\text{cos}(2 \\pi n x - 2 \\pi m x) - \\text{cos}(2 \\pi n x+2 \\pi m x) dx &= \\int_{0}^{1} \\text{cos}(2 \\pi x(n - m )) - \\text{cos}(2 \\pi x (n + m )) dx \\\\\n",
    "\\begin{bmatrix}\\frac{\\text{sin}(2 \\pi (n-m)x)}{2 \\pi (n-m)} - \\frac{\\text{sin}(2 \\pi (n+m)x)}{2 \\pi (n+m)} \\end{bmatrix}_{0}^{1} &= \\frac{\\text{sin}(2 \\pi (n-m))}{2 \\pi (n-m)} - \\frac{\\text{sin}(2 \\pi (n+m))}{2 \\pi (n+m)}\n",
    "\\end{align*}\n",
    "$$\n",
    "The last term is always zero, because the argument is always of the form $2 \\pi \\cdot k$, where $k$ is some positive integer. The same is true for the first term, except when $m=n$, from the aforementioned calculus result, we know that it is equal to 1. \n",
    "$$\n",
    "\\langle \\sqrt 2 \\text{sin}(2 \\pi n x), \\sqrt 2 \\text{sin}(2 \\pi m x) \\rangle = \n",
    "\\begin{cases}\n",
    "      0 & \\text{if } m \\neq n \\\\\n",
    "      1 & \\text{if } m = n\n",
    "\\end{cases}\n",
    "$$\n",
    "They are orthogonal, and the induced norm is just taking the square root of the inner product, this yields that $ \\sqrt 2 \\text{sin}(2 \\pi n x)$ is of unit length, i.e. 1. Hence, we have orthonormality.  \n",
    "\n",
    "The last inner product to be proven, which includes the special case $\\sqrt 2 \\text{cos}(2 \\pi 0 \\cdot)$ is \n",
    "$$ \\langle \\sqrt 2 \\text{cos}(2 \\pi n \\cdot), \\sqrt 2 \\text{cos}(2 \\pi m \\cdot) \\rangle = 2 \\int_{0}^{1} \\text{cos}(2 \\pi n x) \\space \\text{cos}(2 \\pi m x) dx\n",
    "$$\n",
    "We now use the last trigonometric identity and factorize the arguments to get the following integral,  \n",
    "$$\n",
    "\\int_{0}^{1} \\text{cos}(2 \\pi (n-m) x ) + \\text{cos}(2 \\pi (m+n) x) dx \n",
    "$$ \n",
    "which is almost identical to the previous integral except for a change of sign in the last term. However, since that term, as previously explained, is always zero. We get the exact same result as before, except for the special case of $m=n=0$. In the special case both terms are of the form $$\\lim_{x \\to 0}\\frac{\\text{sin}(x)}{x} = 1.$$ With this information at hand we summarize the inner product as\n",
    "$$\n",
    "\\langle \\sqrt 2 \\text{cos}(2 \\pi n \\cdot), \\sqrt 2 \\text{cos}(2 \\pi m \\cdot) \\rangle = \n",
    "\\begin{cases}\n",
    "      0 & \\text{if } m \\neq n \\\\\n",
    "      1 & \\text{if } m = n    \\\\\n",
    "      2 & \\text{if } m = n = 0\n",
    "\\end{cases}\n",
    "$$\n",
    "\n",
    "\n"
   ]
  },
  {
   "cell_type": "markdown",
   "metadata": {},
   "source": [
    "### Task 1c)\n",
    "\n",
    "# Emil Legger inn orthonormal basis\n",
    "\n",
    "We have that\n",
    "$$\n",
    "\\mathcal{S}_n = \\left\\{ f \\Bigg\\vert f(x) = \\frac{a_0}{2} + \\sum_{k=1}^n a_k \\cos{2\\pi k x } + b_k \\sin{2 \\pi k x}, a_0,...,a_n,b_1,...,b_n \\in \\mathbb{R} \\right\\}\n",
    "\n",
    "$$\n",
    "\n",
    "Looking at the sum and using Euler's identity we can rewrite as\n",
    "\n",
    "$$\n",
    "\\begin{align*}\n",
    "\\frac{a_0}{2} + \\sum_{k=1}^n a_k \\cos{2\\pi k x } + b_k \\sin{2 \\pi k x} &= \\frac{a_0}{2} + \\sum_{k=1}^n a_k \\left(\\frac{e^{2\\pi k x i} + e^{-2\\pi k x i}}{2} \\right) + b_k \\left(\\frac{e^{2\\pi k x i} - e^{-2\\pi k x i}}{2i} \\right) \\\\\n",
    "&= \\frac{a_0}{2} + \\sum_{k=1}^n \\left(\\frac{a_k-ib_k}{2} \\right)e^{2 \\pi k x i} + \\sum_{k=1}^n \\left(\\frac{a_k+ib_k}{2} \\right)e^{-2 \\pi k x i}\n",
    "\\end{align*}\n",
    "$$\n",
    "\n",
    "Defining $c_k = \\frac{a_k-ib_k}{2}$, $\\bar{c}_k = \\frac{a_k+ib_k}{2}$ and $c_0 = \\frac{a_0}{2}$\n",
    "\n",
    "Our sum now looks like this\n",
    "\n",
    "$$\n",
    "\\begin{align*}\n",
    "\n",
    "c_0 + \\sum_{k=1}^n c_k e^{2 \\pi k x i} + \\sum_{k=1}^n \\bar{c}_ke^{-2 \\pi k x i} &= c_0 + \\sum_{k=1}^n c_k e^{2 \\pi k x i} + \\sum_{k=-1}^{-n} \\bar{c}_{-k}e^{2 \\pi k x i}\n",
    "\\end{align*}\n",
    "$$\n",
    "\n",
    "Now combining the sum, with the coefficients $c_{k} = \\bar{c}_{-k}, k = 1,...,n$ we finally get\n",
    "\n",
    "$$\n",
    "\\sum_{k=-n}^n c_ke^{2 \\pi k x i}\n",
    "$$\n",
    "\n",
    "Which is $\\text{span} (\\mathcal{T}_n)$ so they are the same space.\n",
    "\n",
    "# dimensjonen av T_n\n"
   ]
  },
  {
   "cell_type": "markdown",
   "metadata": {},
   "source": [
    "#### 1d) Emil Fletter sammen med 1c) når Sofus har lastet det opp\n",
    "\n",
    "We can now deduce how to calculate the coefficients $a_k \\text{ and } b_k$.\n",
    "$$\n",
    "\\begin{align*}\n",
    "f(x) = \\frac{a_0}{2} + \\sum_{j=1}^{n} a_j \\text{cos}(2 \\pi j x) + b_j \\text{sin}(2 \\pi j x) \\\\\n",
    "\\end{align*}\n",
    "$$\n",
    "We now multiply both sides by $ \\text{cos}(2 \\pi k x) $ and integrate each side over the interval $[-\\frac{1}{2}, \\frac{1}{2})$. This results in every term, other than the k-th, to be zero, because of the aforementioned inner products. This yields this equation  \n",
    "\n",
    "\n"
   ]
  },
  {
   "cell_type": "markdown",
   "metadata": {},
   "source": [
    "# 1e) mr. sofusbu"
   ]
  },
  {
   "cell_type": "markdown",
   "metadata": {},
   "source": [
    "# 1f) Emil "
   ]
  },
  {
   "cell_type": "markdown",
   "metadata": {},
   "source": [
    "# 1g) very hard\n"
   ]
  },
  {
   "cell_type": "markdown",
   "metadata": {},
   "source": [
    "1 e) \n",
    "\n",
    "The composite trapezoid rule for equally spaced points is\n",
    "\n",
    "$$\n",
    "\\int_a^b f(x) dx= \\Delta x \\left( \\frac{f_N+f_0}{2} + \\sum_{j=1}^{N-1} f_j \\right)\n",
    "$$\n",
    "\n",
    "Using the definition of $c_k(f)$ with the trapeziodal rule we get\n",
    "$$\n",
    "c_k(f) = \\langle f, e^{2\\pi i k \\cdot} \\rangle = \\int_{-\\frac{1}{2}}^{\\frac{1}{2}} f e^{-2\\pi i k x }dx \\\\\n",
    "\\approx \\Delta x \\left( \\frac{ f_N e^{-2\\pi i k x_N} + f_0e^{-2\\pi i k x_0 }}{2} + \\sum_{j=1}^{N-1} f_j e^{-2\\pi i k x_j } \\right)\n",
    "$$\n",
    "\n",
    "Now replacing $\\Delta x = \\frac{b-a}{N} = \\frac{\\frac{1}{2}+\\frac{1}{2}}{N} = \\frac{1}{N}$ and $x_j = \\frac{j}{N}$, specifically $x_0 = 0, x_N = 1$ and since $f \\in \\mathcal{S}_n$ we know that it is $1$-periodic and therefore $N$-periodic and $f_N = f_0$, we get that\n",
    "\n",
    "$$\n",
    "\\begin{align*}\n",
    "\\frac{1}{N} \\left( \\frac{f_N e^{-2 \\pi i k} + f_0 e^{-2 \\pi i k 0}}{2} + \\sum_{j=1}^{N-1} f_j e^{-2 \\pi i k j/N} \\right) &= \\frac{1}{N} \\left( \\frac{f_0 + f_0}{2} + \\sum_{j=1}^{N-1} f_j e^{-2 \\pi i k j/N} \\right) = \\frac{1}{N} \\sum_{j=0}^{N-1} f_j e^{-2 \\pi i k j/N}\n",
    "\\end{align*}\n",
    "$$\n",
    "\n",
    "Since $f_j$ is $N$-periodic for all $j$, it must follow that $\\hat{f}_k$ is an $N$-periodic function. Since we have every discrete function value in one period, we know everything there is to know about the function, since we can extend the function with $n$ periods. "
   ]
  },
  {
   "cell_type": "markdown",
   "metadata": {},
   "source": [
    "### Task 1h)"
   ]
  },
  {
   "cell_type": "code",
   "execution_count": 17,
   "metadata": {},
   "outputs": [],
   "source": [
    "from scipy import fft\n",
    "import numpy as np\n",
    "import matplotlib.pyplot as plt"
   ]
  },
  {
   "cell_type": "code",
   "execution_count": 38,
   "metadata": {},
   "outputs": [],
   "source": [
    "def transform(f,N,start=0.0):\n",
    "    x = np.linspace(start, start+1,N,endpoint=False)\n",
    "    return fft.fft(f(x), N)"
   ]
  },
  {
   "cell_type": "code",
   "execution_count": 32,
   "metadata": {},
   "outputs": [],
   "source": [
    "f1 = lambda x : np.sin(8*np.pi*x)\n",
    "f2 = lambda x : np.sin(32*np.pi*x) + np.cos(128*np.pi*x)\n",
    "f3 = lambda x : x\n",
    "f4 = lambda x : 1 - np.abs(x)"
   ]
  },
  {
   "cell_type": "code",
   "execution_count": 101,
   "metadata": {},
   "outputs": [
    {
     "data": {
      "image/png": "[encoded data removed]",
      "text/plain": [
       "<Figure size 640x480 with 1 Axes>"
      ]
     },
     "metadata": {},
     "output_type": "display_data"
    }
   ],
   "source": [
    "plt.plot(fft.fftfreq(257,1/(256))*2, -transform(f2,257,-0.5).imag)\n",
    "plt.plot(fft.fftfreq(257,1/(256))*2, -transform(f2,257,-0.5).real)\n",
    "plt.xticks(np.arange(-105, 110, 15)*2)\n",
    "plt.show()"
   ]
  },
  {
   "cell_type": "markdown",
   "metadata": {},
   "source": [
    "### Task 1i)"
   ]
  },
  {
   "cell_type": "code",
   "execution_count": 81,
   "metadata": {},
   "outputs": [
    {
     "data": {
      "image/png": "[encoded data removed]",
      "text/plain": [
       "<Figure size 640x480 with 3 Axes>"
      ]
     },
     "metadata": {},
     "output_type": "display_data"
    }
   ],
   "source": [
    "a = -0.5\n",
    "plt.subplots(3,1)\n",
    "for i,n in enumerate([17,65,257]):\n",
    "    plt.subplot(3,1,i+1)\n",
    "    plt.plot(np.linspace(-n,n,n),fft.fftshift(transform(f2,n,-0.5)).real, label=\"$\\Re \\hat{f}_k$\")\n",
    "    plt.plot(np.linspace(-n,n,n),fft.fftshift(transform(f2,n,-0.5)).imag, label=\"$\\Im \\hat{f}_k$\")\n",
    "    plt.legend()\n",
    "plt.show()"
   ]
  },
  {
   "cell_type": "markdown",
   "metadata": {},
   "source": [
    "### task 2a)"
   ]
  },
  {
   "cell_type": "markdown",
   "metadata": {},
   "source": [
    "$$  \\hat{f_k} =  \\frac{1}{N} \\sum^{n-1}_{j = 0}   f_j e^{- 2 \\pi i j k /N} $$\n",
    "$$ f(x) = \\sum c_k(f) e^{2 \\pi i k x} \\Rightarrow$$\n",
    "$$ f_k =  \\frac{1}{N} \\sum^{n-1}_{j = 0}   (\\sum_{r \\in \\mathbb{Z}} c_r e^{2 \\pi i r j / N} ) e^{- 2 \\pi i j k /N} $$\n",
    "\n",
    "\n",
    "$$ f_k =  \\frac{1}{N} \\sum^{n-1}_{j = 0}   (\\sum_{r \\in \\mathbb{Z}} c_r e^{2 \\pi i j (r- k) / N} ) $$\n",
    "\n",
    "$$ f_k =  \\frac{1}{N} \\sum_{r \\in \\mathbb{Z}} c_r  \\sum^{n-1}_{j = 0}   e^{2 \\pi i j (r- k) / N}  $$\n",
    "\n",
    "if we insert $r = k + l * N$ we get \n",
    "$$ f_k =  \\frac{1}{N} \\sum_{r \\in \\mathbb{Z}} c_{l*n + k}  \\sum^{n-1}_{j = 0}   e^{2 \\pi i j (l*N)/N}  $$\n",
    "$$ f_k =  \\frac{1}{N} \\sum_{r \\in \\mathbb{Z}} c_{l*n + k}  N $$\n",
    "$$ f_k =  \\sum_{r \\in \\mathbb{Z}} c_{l*n + k}  $$\n",
    "\n",
    "### 2b)\n",
    "$$c_k (\\tau_n f) = \\langle \\tau_N f, e^{2 \\pi i k x} \\rangle  = \\int_0^1 \\tau_N f(x) e^{ - 2 \\pi i k x} = \\int_0^1 f(x - 1/N) e^{ - 2 \\pi i k x} $$\n",
    "\n",
    "Making the substituion $x' = x - 1/N$ we get \n",
    "$$\\int_0^1 f(x - 1/N) e^{ - 2 \\pi i k x} = \\int_{-1/N}^{1-1/N}  f(x') e^{ - 2 \\pi i k (x'+1/N)} = \\int_{-1/N}^{1-1/N}  f(x') e^{ - 2 \\pi i k x'} e^{ - 2 \\pi i k/N}$$\n",
    "Since f is 1-periodic we have $$\\int_{-1/N}^{1-1/N}  f(x') e^{ - 2 \\pi i k x'} = \\int_{0}^{1}  f(x) e^{ - 2 \\pi i k x'} = c_k$$\n",
    "which yields the desired result:\n",
    "$$c_k (\\tau_n f) = c_k e^{ - 2 \\pi i k/N}$$\n",
    "\n",
    "To state a formula for $c_k(\\tau_N^j f)$ we use the same method as above, but with $ \\tau_N^j f = f(x-j/N)$ and the substitution $x' = x- j/N$ to arrive at the the result $$c_k (\\tau_n^j f) = c_k e^{ - 2 \\pi i j k/N}$$\n",
    "### task 2c)\n",
    "$$G(x) = \\sum_{j=0}^{N-1} a_j f(x - \\frac{j}{N}) =  \\sum_{j=0}^{N-2} a_j f(x - \\frac{j}{N}) + a_{N-1} f(x - 1 + 1/N) $$\n",
    "$$\\Tau_N g = g(x - 1/N) =  \\sum_{j=0}^{N-2} a_j f(x - \\frac{j+1}{N}) + a_{N-1} f(x-1)   =$$\n",
    "\n",
    "Notice $f(x-1) = f(x)$. Set $j = k-1$ and $a_{N-1} = a_0$. The indexing of the coefficient is arbitrary, so this is possible\n",
    "\n",
    "$$  a_0 f(x) + \\sum_{k=1}^{N-1} a_k f(x - \\frac{k}{N}) =  \\sum_{k=0}^{N-1} a_k f(x - \\frac{k}{N}) \\in V_N $$\n",
    "Because $k = j + 1$, we se that the coefficients of $\\tau_N g$ are shifted one step from $g$ \n",
    "task 2 d)\n",
    "We want to prove that $$ G = (\\langle \\tau_N^l f, \\tau_N^jf \\rangle )^{N-1}_{l,j = 0} \\in \\mathbb(C)^{N x N}$$ is a circular matrix. For ease of notatian we write $(\\langle \\tau_N^l f, \\tau_N^jf\\rangle )$ as $\\langle l^*, j^* \\rangle $ \\\\\n",
    "The matrix C is then given as \n",
    "$$\n",
    "C = \\begin{bmatrix} \n",
    "    \\langle 0, 0 \\rangle & \\langle 0, 1 \\rangle & \\dots   & \\langle 0, N-1 \\rangle\\\\\n",
    "    \\langle 1, 0 \\rangle & \\langle 1, 1 \\rangle & & \\vdots \\\\\n",
    "    \\vdots &  & \\ddots &\\vdots \\\\\n",
    "    \\langle N-1, 0 \\rangle & \\dots  & \\dots & \\langle N-1, N-1 \\rangle \n",
    "    \\end{bmatrix}\n",
    "\n",
    "$$\n",
    "\n",
    "We apply Parsevals identity $$ \\langle  f, g \\rangle = \\sum_{k\\in \\mathbb{Z}} c_k(f) c_k(g)$$ to the inner product $\\langle \\tau_N^l f, \\tau_N^jf\\rangle $. Together with the result $c_k (\\tau_n^j f) = c_k e^{ - 2 \\pi i j k/N}$ from $2b)$ we get \n",
    "$$\\langle \\tau_N^l f, \\tau_N^jf\\rangle = \\sum_{k\\in \\mathbb{Z}} c_k e^{-2 \\pi i l k /N} \\overline{c_k e^{-2 \\pi i j k /N}}  $$\n",
    "$$ = \\sum_{k\\in \\mathbb{Z}} |c_k|^2 e^{-2 \\pi i l k /N}  e^{2 \\pi i j k /N} =\\sum_{k\\in \\mathbb{Z}}  |c_k|^2 e^{2 \\pi i k (j - l) /N}$$\n",
    "\n",
    "As we see, the difference $d = (j-l)$ is what determines the inner product. We construct a matrix $C^*$ with each entry being $d$ when it is non-negative and $N + d$ when it is negative. This does not change the actual value, as N is a whole number mulitplied by $2 \\pi $. We then get\n",
    "$$\n",
    "C^* = \\begin{bmatrix} \n",
    "    0 & 1 &  2 & \\dots & N-1 \\\\\n",
    "    N-1 & 0 &  1 & & \\vdots \\\\\n",
    "    N -2 & N-1 & 0 & & \\vdots \\\\\n",
    "    \\vdots & & & \\ddots & \\vdots \\\\\n",
    "    1 & & & & 0 \\\\\n",
    "    \\end{bmatrix}\n",
    "\n",
    "$$\n",
    "Which is circular. Since the values in $C^*$ uniquely determine the values in $C$, $C$ must also b circular.\n",
    "\n",
    "\n",
    "The diagonal matrix of C looks like $\\sum_{k\\in \\mathbb{Z}}  |c_k|^2 e^{2 \\pi i k * 0 /N}  = \\sum_{k\\in \\mathbb{Z}}  |c_k|^2 $\n",
    "$ g \\in V_{N,f} \\Rightarrow g = \\sum_{j=0}^{n-1} a_j f(x - 1/N) = \\sum_{j=0}^{n-1} a_j \\tau_N^j f(x)$\n",
    "\n",
    "$$c_k(g) = \\langle \\sum_{j=0}^{n-1} a_j \\tau_N^j f , e^{2 \\pi k} \\rangle $$\n",
    "$$    = \\sum_{j=0}^{n-1} a_j \\langle  \\tau_N^j f , e^{2 \\pi k} \\rangle $$\n",
    "$$= \\sum_{j=0}^{n-1} a_j c_k(\\tau_N^j f) $$\n",
    "\n",
    "$$= \\sum_{j=0}^{n-1} a_j c_k(f) * e^{2 \\pi i j k /N} $$\n",
    "\n",
    "$$= (\\sum_{j=0}^{n-1} a_j * e^{2 \\pi i j k /N} )  c_k(f) $$\n",
    "### Task 2f)\n",
    "$$\\hat{i} = \\frac{1}{N} \\sum^{N-1}_{j=0} I(x_j) e^{- 2 \\pi i j k / N}  = \\frac{1}{N}$$\n",
    "\n",
    "$$ C_k(I) = N \\hat{a} C_k(f) $$\n",
    "\n",
    "$$\\hat{i} = \\sum_{h \\in \\mathbb{Z}} C_{h+Nz}(I) = \\sum_{h \\in \\mathbb{Z}} N \\hat{a} C_{h+Nz}(f) $$\n",
    "$$ = N \\hat{a}  \\sum_{h \\in \\mathbb{Z}} C_{h+Nz}(f) = \\frac{1}{N}$$\n",
    "\n",
    "$$\\Rightarrow \\sum_{h \\in \\mathbb{Z}} C_{h+Nz}(f) \\neq 0 \\; \\; \\forall h $$"
   ]
  }
 ],
 "metadata": {
  "kernelspec": {
   "display_name": "Python 3.10.7 64-bit",
   "language": "python",
   "name": "python3"
  },
  "language_info": {
   "codemirror_mode": {
    "name": "ipython",
    "version": 3
   },
   "file_extension": ".py",
   "mimetype": "text/x-python",
   "name": "python",
   "nbconvert_exporter": "python",
   "pygments_lexer": "ipython3",
   "version": "3.10.7"
  },
  "orig_nbformat": 4,
  "vscode": {
   "interpreter": {
    "hash": "52634da84371cba311ea128a5ea7cdc41ff074b781779e754b270ff9f8153cee"
   }
  }
 },
 "nbformat": 4,
 "nbformat_minor": 2
}

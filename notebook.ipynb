{
 "cells": [
  {
   "cell_type": "markdown",
   "metadata": {},
   "source": [
    "1 a)\n",
    "$$\n",
    "\\begin{align*}\n",
    "\\langle e^{2\\pi ik\\cdot}, e^{2\\pi ih\\cdot} \\rangle &= \\int_0^1 e^{2\\pi ikx} e^{2\\pi ihx}dx \\\\\n",
    "&= \\int_0^1 e^{2\\pi ix(k-h)}dx \\\\\n",
    "&= \\frac{1}{2\\pi i (k-h)} \\left( e^{2\\pi ix(k-h)} -1 \\right) \\\\\n",
    "\n",
    "\\end{align*}\n",
    "$$\n",
    "If we look at the case $k = h$ we get an expression on the form $\\frac{0}{0}$ so we check the limit as $k \\to h$, and use L'Hôpital's rule\n",
    "$$\n",
    "\\begin{align*}\n",
    "\\lim_{k \\to h} \\frac{\\left( e^{2\\pi ix(k-h)} -1 \\right)}{2\\pi i (k-h)} &= \\lim_{k \\to h} \\frac{2\\pi i\\left( e^{2\\pi ix(k-h)} \\right)}{2\\pi i}\\\\\n",
    "&= \\lim_{k \\to h} e^{2\\pi ix(k-h)} \\\\\n",
    "&= 1\n",
    "\\end{align*}\n",
    "$$"
   ]
  },
  {
   "cell_type": "markdown",
   "metadata": {},
   "source": [
    "## Task 1b)\n",
    "\n",
    "\n",
    "Something somethin establish orthonormal system of one-periodic functions. We start by showing that $\\sqrt 2 \\text{sin}(2 \\pi m x), m = 1,2, ..., \\text{cos}(2 \\pi 0 x) \\text{ and } \\sqrt 2 \\text{cos}(2 \\pi n x), n= 1,2,..., x \\in \\mathbb{T}$ are orthonormal using the inner product defined in the introduction, and that the special case $\\text{cos}(2 \\pi 0 x)$ is of length one under the induced norm. The following trigonometric identities will be usefull,\n",
    "$$ \n",
    "\\begin{align*}\n",
    "  \\sin x \\cos y &= \\frac{1}{2}\\big(\\sin(x + y) + \\sin(x - y)\\big).\\\\\n",
    "  \\sin x \\sin y &= \\frac{1}{2}\\big(\\cos(x - y) - \\cos(x + y)\\big)\\\\\n",
    "  \\cos x \\cos y &= \\frac{1}{2}\\big(\\cos(x - y) + \\cos(x + y)\\big)\\\\\n",
    "\\end{align*}\n",
    "\\\\\n",
    "$$\n",
    "We will also use a well known result from calculus namely, \n",
    "$$\n",
    "\\lim_{x \\to 0}\\frac{\\text{sin}(x)}{x} = 1. \n",
    "$$\n",
    "With these identities defined we start calculating the inner products. \n",
    "$$\n",
    "\\langle \\sqrt 2 \\text{sin}(2 \\pi n \\cdot), \\sqrt 2 \\text{cos}(2 \\pi m \\cdot) \\rangle = \\int_{0}^{1} \\sqrt 2 \\text{sin}(2 \\pi m x) \\space \\sqrt 2 \\text{cos}(2 \\pi n x) \\space dx = 2 \\int_{0}^{1} \\text{sin}(2 \\pi m x) \\space \\text{cos}(2 \\pi n x) \\space dx\n",
    "\\\\\n",
    "$$ \n",
    "using the first trigonometric identity we obtain the following integral,\n",
    "$$\n",
    "\\begin{align*}\n",
    "&\\int_{0}^{1} \\text{sin}(2\\pi nx + 2 \\pi mx) + \\text{sin}(2 \\pi nx- 2 \\pi mx) dx \\\\\n",
    "= &\\int_{0}^{1} \\text{sin}(2\\pi x (n +m)) + \\text{sin}(2 \\pi x (n-m)) dx\n",
    "\\end{align*}\n",
    "\\\\\n",
    "$$\n",
    "These integrals are not necessary to compute, Sine is an odd periodic-function, and the integral of an odd function over an integer number of periods is zero. Therefore, $$\\langle \\sqrt 2 \\text{sin}(2 \\pi n \\cdot), \\sqrt 2 \\text{cos}(2 \\pi m \\cdot) \\rangle = 0, n = 1,2,..., m = 1,2,... \\iff \\text{ The functions are orthogonal for all natural numbers, } m \\text{ and } n.\n",
    "\\\\ $$ \n",
    "We procede by showing that the functions are orthogonal to themselves when $m \\neq n.$\n",
    "$$\n",
    "\\langle \\sqrt 2 \\text{sin}(2 \\pi n x), \\sqrt 2 \\text{sin}(2 \\pi m x) \\rangle = 2 \\int_{0}^{1} \\text{sin}(2 \\pi n x) \\space \\text{sin}(2 \\pi m x) dx.\n",
    "$$\n",
    "The second trigonometric identity gives us the new integral, \n",
    "$$\n",
    "\\begin{align*}\n",
    "\\int_{0}^{1} \\text{cos}(2 \\pi n x - 2 \\pi m x) - \\text{cos}(2 \\pi n x+2 \\pi m x) dx &= \\int_{0}^{1} \\text{cos}(2 \\pi x(n - m )) - \\text{cos}(2 \\pi x (n + m )) dx \\\\\n",
    "\\begin{bmatrix}\\frac{\\text{sin}(2 \\pi (n-m)x)}{2 \\pi (n-m)} + \\frac{\\text{sin}(2 \\pi (n+m)x)}{2 \\pi (n+m)} \\end{bmatrix}_{0}^{1} &= \\frac{\\text{sin}(2 \\pi (n-m))}{2 \\pi (n-m)} + \\frac{\\text{sin}(2 \\pi (n+m))}{2 \\pi (n+m)}\n",
    "\\end{align*}\n",
    "$$\n",
    "The last term is always zero, because the argument is always of the form $2 \\pi \\cdot k$, where $k$ is some positive integer. The same is true for the first term, except when $m=n$, from the aforementioned calculus result, we know that it is equal to 1. \n",
    "$$\n",
    "\\langle \\sqrt 2 \\text{sin}(2 \\pi n x), \\sqrt 2 \\text{sin}(2 \\pi m x) \\rangle = \n",
    "\\begin{cases}\n",
    "      0 & \\text{if } m \\neq n \\\\\n",
    "      1 & \\text{if } m = n\n",
    "\\end{cases}\n",
    "$$\n",
    "The induced norm is just taking the square root of the inner product, this yields that $ \\sqrt 2 \\text{sin}(2 \\pi n x)$ is of unit length, i.e. 1. \n",
    "\n",
    "## Skrive siste her\n",
    "\n"
   ]
  },
  {
   "cell_type": "markdown",
   "metadata": {},
   "source": [
    "### Task 1c)\n",
    "\n",
    "We have that\n",
    "$$\n",
    "\\mathcal{S}_n = \\left\\{ f \\Bigg\\vert f(x) = \\frac{a_0}{2} + \\sum_{k=1}^n a_k \\cos{2\\pi k x } + b_k \\sin{2 \\pi k x}, a_0,...,a_n,b_1,...,b_n \\in \\mathbb{R} \\right\\}\n",
    "\n",
    "$$\n",
    "\n",
    "Looking at the sum and using Euler's identity we can rewrite as\n",
    "\n",
    "$$\n",
    "\\begin{align*}\n",
    "\\frac{a_0}{2} + \\sum_{k=1}^n a_k \\cos{2\\pi k x } + b_k \\sin{2 \\pi k x} &= \\frac{a_0}{2} + \\sum_{k=1}^n a_k \\left(\\frac{e^{2\\pi k x i} + e^{-2\\pi k x i}}{2} \\right) + b_k \\left(\\frac{e^{2\\pi k x i} - e^{-2\\pi k x i}}{2i} \\right) \\\\\n",
    "&= \\frac{a_0}{2} + \\sum_{k=1}^n \\left(\\frac{a_k-ib_k}{2} \\right)e^{2 \\pi k x i} + \\sum_{k=1}^n \\left(\\frac{a_k+ib_k}{2} \\right)e^{-2 \\pi k x i}\n",
    "\\end{align*}\n",
    "$$\n",
    "\n",
    "Defining $c_k = \\frac{a_k-ib_k}{2}$, $\\bar{c}_k = \\frac{a_k+ib_k}{2}$ and $c_0 = \\frac{a_0}{2}$\n",
    "\n",
    "Our sum now looks like this\n",
    "\n",
    "$$\n",
    "\\begin{align*}\n",
    "\n",
    "c_0 + \\sum_{k=1}^n c_k e^{2 \\pi k x i} + \\sum_{k=1}^n \\bar{c}_ke^{-2 \\pi k x i} &= c_0 + \\sum_{k=1}^n c_k e^{2 \\pi k x i} + \\sum_{k=-1}^{-n} \\bar{c}_{-k}e^{2 \\pi k x i}\n",
    "\\end{align*}\n",
    "$$\n",
    "\n",
    "Now combining the sum, with the coefficients $c_{k} = \\bar{c}_{-k}, k = 1,...,n$ we finally get\n",
    "\n",
    "$$\n",
    "\\sum_{k=-n}^n c_ke^{2 \\pi k x i}\n",
    "$$\n",
    "\n",
    "Which is $\\text{span} (\\mathcal{T}_n)$ so they are the same space."
   ]
  },
  {
   "cell_type": "markdown",
   "metadata": {},
   "source": [
    "#### Task 1d)\n",
    "\n"
   ]
  },
  {
   "cell_type": "markdown",
   "metadata": {},
   "source": [
    "\n",
    "hei dette er"
   ]
  }
 ],
 "metadata": {
  "kernelspec": {
   "display_name": "Python 3.10.7 64-bit",
   "language": "python",
   "name": "python3"
  },
  "language_info": {
   "codemirror_mode": {
    "name": "ipython",
    "version": 3
   },
   "file_extension": ".py",
   "mimetype": "text/x-python",
   "name": "python",
   "nbconvert_exporter": "python",
   "pygments_lexer": "ipython3",
   "version": "3.10.7"
  },
  "orig_nbformat": 4,
  "vscode": {
   "interpreter": {
    "hash": "52634da84371cba311ea128a5ea7cdc41ff074b781779e754b270ff9f8153cee"
   }
  }
 },
 "nbformat": 4,
 "nbformat_minor": 2
}

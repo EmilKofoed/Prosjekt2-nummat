{
 "cells": [
  {
   "cell_type": "markdown",
   "metadata": {},
   "source": [
    "## Task 1b)\n",
    "\n",
    "\n",
    "Something somethin establish orthonormal system of one-periodic functions. We start by showing that $\\sqrt 2 \\text{sin}(2 \\pi m x), m = 1,2, ..., \\text{cos}(2 \\pi 0 x) \\text{ and } \\sqrt 2 \\text{cos}(2 \\pi n x), n= 1,2,..., x \\in \\mathbb{T}$ are orthonormal using the inner product defined in the introduction, and that the special case $\\text{cos}(2 \\pi 0 x)$ is of length one under the induced norm. The following trigonometric identities will be usefull,\n",
    "$$ \n",
    "\\begin{align*}\n",
    "  \\sin x \\cos y &= \\frac{1}{2}\\big(\\sin(x + y) + \\sin(x - y)\\big).\\\\\n",
    "  \\sin x \\sin y &= \\frac{1}{2}\\big(\\cos(x - y) - \\cos(x + y)\\big)\\\\\n",
    "  \\cos x \\cos y &= \\frac{1}{2}\\big(\\cos(x - y) + \\cos(x + y)\\big)\\\\\n",
    "\\end{align*}\n",
    "\\\\\n",
    "$$\n",
    "We will also use a well known result from calculus namely, \n",
    "$$\n",
    "\\lim_{x \\to 0}\\frac{\\text{sin}(x)}{x} = 1. \n",
    "$$\n",
    "With these identities defined we start calculating the inner products. \n",
    "$$\n",
    "\\langle \\sqrt 2 \\text{sin}(2 \\pi n \\cdot), \\sqrt 2 \\text{cos}(2 \\pi m \\cdot) \\rangle = \\int_{0}^{1} \\sqrt 2 \\text{sin}(2 \\pi m x) \\space \\sqrt 2 \\text{cos}(2 \\pi n x) \\space dx = 2 \\int_{0}^{1} \\text{sin}(2 \\pi m x) \\space \\text{cos}(2 \\pi n x) \\space dx\n",
    "\\\\\n",
    "$$ \n",
    "using the first trigonometric identity we obtain the following integral,\n",
    "$$\n",
    "\\begin{align*}\n",
    "&\\int_{0}^{1} \\text{sin}(2\\pi nx + 2 \\pi mx) + \\text{sin}(2 \\pi nx- 2 \\pi mx) dx \\\\\n",
    "= &\\int_{0}^{1} \\text{sin}(2\\pi x (n +m)) + \\text{sin}(2 \\pi x (n-m)) dx\n",
    "\\end{align*}\n",
    "\\\\\n",
    "$$\n",
    "These integrals are not necessary to compute, Sine is an odd periodic-function, and the integral of an odd function over an integer number of periods is zero. Therefore, $$\\langle \\sqrt 2 \\text{sin}(2 \\pi n \\cdot), \\sqrt 2 \\text{cos}(2 \\pi m \\cdot) \\rangle = 0, n = 1,2,..., m = 1,2,... \\iff \\text{ The functions are orthogonal for all natural numbers, } m \\text{ and } n.\n",
    "\\\\ $$ \n",
    "We procede by showing that the functions are orthogonal to themselves when $m \\neq n.$\n",
    "$$\n",
    "\\langle \\sqrt 2 \\text{sin}(2 \\pi n x), \\sqrt 2 \\text{sin}(2 \\pi m x) \\rangle = 2 \\int_{0}^{1} \\text{sin}(2 \\pi n x) \\space \\text{sin}(2 \\pi m x) dx.\n",
    "$$\n",
    "The second trigonometric identity gives us the new integral, \n",
    "$$\n",
    "\\begin{align*}\n",
    "\\int_{0}^{1} \\text{cos}(2 \\pi n x - 2 \\pi m x) - \\text{cos}(2 \\pi n x+2 \\pi m x) dx &= \\int_{0}^{1} \\text{cos}(2 \\pi x(n - m )) - \\text{cos}(2 \\pi x (n + m )) dx \\\\\n",
    "\\begin{bmatrix}\\frac{\\text{sin}(2 \\pi (n-m)x)}{2 \\pi (n-m)} + \\frac{\\text{sin}(2 \\pi (n+m)x)}{2 \\pi (n+m)} \\end{bmatrix}_{0}^{1} &= \\frac{\\text{sin}(2 \\pi (n-m))}{2 \\pi (n-m)} + \\frac{\\text{sin}(2 \\pi (n+m))}{2 \\pi (n+m)}\n",
    "\\end{align*}\n",
    "$$\n",
    "The last term is always zero, because the argument is always of the form $2 \\pi \\cdot k$, where $k$ is some positive integer. The same is true for the first term, except when $m=n$, from the aforementioned calculus result, we know that it is equal to 1. \n",
    "$$\n",
    "\\langle \\sqrt 2 \\text{sin}(2 \\pi n x), \\sqrt 2 \\text{sin}(2 \\pi m x) \\rangle = \n",
    "\\begin{cases}\n",
    "      0 & \\text{if } m \\neq n \\\\\n",
    "      1 & \\text{if } m = n\n",
    "\\end{cases}\n",
    "$$\n",
    "The induced norm is just taking the square root of the inner product, this yields that $ \\sqrt 2 \\text{sin}(2 \\pi n x)$ is of unit length, i.e. 1. \n",
    "\n",
    "## Skrive siste her\n",
    "\n"
   ]
  },
  {
   "cell_type": "markdown",
   "metadata": {},
   "source": [
    "### Task 1c)\n",
    "\n",
    "Sofus gjør det\n"
   ]
  },
  {
   "cell_type": "markdown",
   "metadata": {},
   "source": [
    "#### Task 1d)\n",
    "\n"
   ]
  },
  {
   "cell_type": "markdown",
   "metadata": {},
   "source": [
    "\n",
    "$$f_j = f(x_j)$$ \n",
    "$$x_0, x_1, , , x_{N-1}$$ \n",
    "$$ c_k = c_k(f) = \\langle f, e^{2 \\pi i k \\cdot} \\rangle$$ \n",
    "\n",
    "\n",
    "\n"
   ]
  },
  {
   "cell_type": "code",
   "execution_count": null,
   "metadata": {
    "vscode": {
     "languageId": "plaintext"
    }
   },
   "outputs": [],
   "source": []
  },
  {
   "cell_type": "code",
   "execution_count": null,
   "metadata": {
    "vscode": {
     "languageId": "plaintext"
    }
   },
   "outputs": [],
   "source": []
  },
  {
   "cell_type": "markdown",
   "metadata": {},
   "source": []
  },
  {
   "cell_type": "markdown",
   "metadata": {},
   "source": [
    "#### Task 2a)"
   ]
  },
  {
   "cell_type": "markdown",
   "metadata": {},
   "source": [
    "$$  \\hat{f_k} =  \\frac{1}{N} \\sum^{n-1}_{j = 0}   f_j e^{- 2 \\pi i j k /N} $$\n",
    "$$ f(x) = \\sum c_k(f) e^{2 \\pi i k x} \\Rightarrow$$\n",
    "$$ f_k =  \\frac{1}{N} \\sum^{n-1}_{j = 0}   (\\sum_{r \\in \\mathbb{Z}} c_r e^{2 \\pi i r j / N} ) e^{- 2 \\pi i j k /N} $$\n",
    "\n"
   ]
  },
  {
   "cell_type": "markdown",
   "metadata": {},
   "source": [
    "$$ f_k =  \\frac{1}{N} \\sum^{n-1}_{j = 0}   (\\sum_{r \\in \\mathbb{Z}} c_r e^{2 \\pi i j (r- k) / N} ) $$\n",
    "\n",
    "$$ f_k =  \\frac{1}{N} \\sum_{r \\in \\mathbb{Z}} c_r  \\sum^{n-1}_{j = 0}   e^{2 \\pi i j (r- k) / N}  $$\n"
   ]
  },
  {
   "cell_type": "markdown",
   "metadata": {},
   "source": [
    "if we insert $r = k + l * N$ we get \n",
    "$$ f_k =  \\frac{1}{N} \\sum_{r \\in \\mathbb{Z}} c_{l*n + k}  \\sum^{n-1}_{j = 0}   e^{2 \\pi i j (l*N)/N}  $$\n",
    "$$ f_k =  \\frac{1}{N} \\sum_{r \\in \\mathbb{Z}} c_{l*n + k}  N $$\n",
    "$$ f_k =  \\sum_{r \\in \\mathbb{Z}} c_{l*n + k}  $$\n"
   ]
  },
  {
   "cell_type": "markdown",
   "metadata": {},
   "source": [
    "### 2b)"
   ]
  },
  {
   "cell_type": "markdown",
   "metadata": {},
   "source": [
    "$$c_k (\\tau_n f) = \\langle \\tau_N f, e^{2 \\pi i k x} \\rangle  = \\int_0^1 \\tau_N f(x) e^{ - 2 \\pi i k x} = \\int_0^1 f(x - 1/N) e^{ - 2 \\pi i k x} $$\n",
    "\n",
    "Making the substituion $x' = x - 1/N$ we get \n",
    "$$\\int_0^1 f(x - 1/N) e^{ - 2 \\pi i k x} = \\int_{-1/N}^{1-1/N}  f(x') e^{ - 2 \\pi i k (x'+1/N)} = \\int_{-1/N}^{1-1/N}  f(x') e^{ - 2 \\pi i k x'} e^{ - 2 \\pi i k/N}$$\n",
    "Since f is 1-periodic we have $$\\int_{-1/N}^{1-1/N}  f(x') e^{ - 2 \\pi i k x'} = \\int_{0}^{1}  f(x) e^{ - 2 \\pi i k x'} = c_k$$\n",
    "which yields the desired result:\n",
    "$$c_k (\\tau_n f) = c_k e^{ - 2 \\pi i k/N}$$\n"
   ]
  },
  {
   "cell_type": "markdown",
   "metadata": {},
   "source": [
    "To state a formula for $c_k(\\tau_N^j f)$ we use the same method as above, but with $ \\tau_N^j f = f(x-j/N)$ and the substitution $x' = x- j/N$ to arrive at the the result $$c_k (\\tau_n^j f) = c_k e^{ - 2 \\pi i j k/N}$$"
   ]
  },
  {
   "cell_type": "markdown",
   "metadata": {},
   "source": [
    "### task 2c)"
   ]
  },
  {
   "cell_type": "markdown",
   "metadata": {},
   "source": [
    "$$G(x) = \\sum_{j=0}^{N-1} a_j f(x - \\frac{j}{N}) =  \\sum_{j=0}^{N-2} a_j f(x - \\frac{j}{N}) + a_{N-1} f(x - 1 + 1/N) $$\n",
    "$$\\Tau_N g = g(x - 1/N) =  \\sum_{j=0}^{N-2} a_j f(x - \\frac{j+1}{N}) + a_{N-1} f(x-1)   =$$\n",
    "\n",
    "Notice $f(x-1) = f(x)$. Set $j = k-1$ and $a_{N-1} = a_0$. The indexing of the coefficient is arbitrary, so this is possible\n",
    "\n",
    "$$  a_0 f(x) + \\sum_{k=1}^{N-1} a_k f(x - \\frac{k}{N}) =  \\sum_{k=0}^{N-1} a_k f(x - \\frac{k}{N}) \\in V_N $$"
   ]
  },
  {
   "cell_type": "markdown",
   "metadata": {},
   "source": [
    "Because $k = j + 1$, we se that the coefficients of $\\tau_N g$ are shifted one step from $g$ "
   ]
  },
  {
   "cell_type": "markdown",
   "metadata": {},
   "source": [
    "task 2 d)"
   ]
  },
  {
   "cell_type": "markdown",
   "metadata": {},
   "source": [
    "We want to prove that $$ G = (\\langle \\tau_N^l f, \\tau_N^jf \\rangle )^{N-1}_{l,j = 0} \\in \\mathbb(C)^{N x N}$$ is a circular matrix. For ease of notatian we write $(\\langle \\tau_N^l f, \\tau_N^jf\\rangle )$ as $\\langle l^*, j^* \\rangle $ \\\\\n",
    "The matrix C is then given as \n",
    "$$\n",
    "C = \\begin{bmatrix} \n",
    "    \\langle 0, 0 \\rangle & \\langle 0, 1 \\rangle & \\dots   & \\langle 0, N-1 \\rangle\\\\\n",
    "    \\langle 1, 0 \\rangle & \\langle 1, 1 \\rangle & & \\vdots \\\\\n",
    "    \\vdots &  & \\ddots &\\vdots \\\\\n",
    "    \\langle N-1, 0 \\rangle & \\dots  & \\dots & \\langle N-1, N-1 \\rangle \n",
    "    \\end{bmatrix}\n",
    "\n",
    "$$\n",
    "\n",
    "We apply Parsevals identity $$ \\langle  f, g \\rangle = \\sum_{k\\in \\mathbb{Z}} c_k(f) c_k(g)$$ to the inner product $\\langle \\tau_N^l f, \\tau_N^jf\\rangle $. Together with the result $c_k (\\tau_n^j f) = c_k e^{ - 2 \\pi i j k/N}$ from $2b)$ we get \n",
    "$$\\langle \\tau_N^l f, \\tau_N^jf\\rangle = \\sum_{k\\in \\mathbb{Z}} c_k e^{-2 \\pi i l k /N} \\overline{c_k e^{-2 \\pi i j k /N}}  $$\n",
    "$$ = \\sum_{k\\in \\mathbb{Z}} |c_k|^2 e^{-2 \\pi i l k /N}  e^{2 \\pi i j k /N} =\\sum_{k\\in \\mathbb{Z}}  |c_k|^2 e^{2 \\pi i k (j - l) /N}$$\n",
    "\n",
    "As we see, the difference $d = (j-l)$ is what determines the inner product. We construct a matrix $C^*$ with each entry being $d$ when it is non-negative and $N + d$ when it is negative. This does not change the actual value, as N is a whole number mulitplied by $2 \\pi $. We then get\n",
    "$$\n",
    "C^* = \\begin{bmatrix} \n",
    "    0 & 1 &  2 & \\dots & N-1 \\\\\n",
    "    N-1 & 0 &  1 & & \\vdots \\\\\n",
    "    N -2 & N-1 & 0 & & \\vdots \\\\\n",
    "    \\vdots & & & \\ddots & \\vdots \\\\\n",
    "    1 & & & & 0 \\\\\n",
    "    \\end{bmatrix}\n",
    "\n",
    "$$\n",
    "Which is circular. Since the values in $C^*$ uniquely determine the values in $C$, $C$ must also b circular.\n",
    "\n"
   ]
  },
  {
   "cell_type": "markdown",
   "metadata": {},
   "source": [
    "The diagonal matrix of C looks like $\\sum_{k\\in \\mathbb{Z}}  |c_k|^2 e^{2 \\pi i k * 0 /N}  = \\sum_{k\\in \\mathbb{Z}}  |c_k|^2 $"
   ]
  },
  {
   "cell_type": "markdown",
   "metadata": {},
   "source": [
    "$ g \\in V_{N,f} \\Rightarrow g = \\sum_{j=0}^{n-1} a_j f(x - 1/N) = \\sum_{j=0}^{n-1} a_j \\tau_N^j f(x)$\n",
    "\n",
    "$$c_k(g) = \\langle \\sum_{j=0}^{n-1} a_j \\tau_N^j f , e^{2 \\pi k} \\rangle $$\n",
    "$$    = \\sum_{j=0}^{n-1} a_j \\langle  \\tau_N^j f , e^{2 \\pi k} \\rangle $$\n",
    "$$= \\sum_{j=0}^{n-1} a_j c_k(\\tau_N^j f) $$\n",
    "\n",
    "$$= \\sum_{j=0}^{n-1} a_j c_k(f) * e^{2 \\pi i j k /N} $$\n",
    "\n",
    "$$= (\\sum_{j=0}^{n-1} a_j * e^{2 \\pi i j k /N} )  c_k(f) $$"
   ]
  },
  {
   "cell_type": "markdown",
   "metadata": {},
   "source": [
    "$$\\hat{i} = \\frac{1}{N} \\sum^{N-1}_{j=0} I(x_j) e^{- 2 \\pi i j k / N}  = \\frac{1}{N}$$\n",
    "\n",
    "$$ C_k(I) = N \\hat{a} C_k(f) $$\n",
    "\n",
    "$$\\hat{i} = \\sum_{h \\in \\mathbb{Z}} C_{h+Nz}(I) = \\sum_{h \\in \\mathbb{Z}} N \\hat{a} C_{h+Nz}(f) $$\n",
    "$$ = N \\hat{a}  \\sum_{h \\in \\mathbb{Z}} C_{h+Nz}(f) = \\frac{1}{N}$$\n",
    "\n",
    "$$\\Rightarrow \\sum_{h \\in \\mathbb{Z}} C_{h+Nz}(f) \\neq 0 \\; \\; \\forall h $$"
   ]
  }
 ],
 "metadata": {
  "kernelspec": {
   "display_name": "Python 3.9.12 ('base')",
   "language": "python",
   "name": "python3"
  },
  "language_info": {
   "codemirror_mode": {
    "name": "ipython",
    "version": 3
   },
   "file_extension": ".py",
   "mimetype": "text/x-python",
   "name": "python",
   "nbconvert_exporter": "python",
   "pygments_lexer": "ipython3",
   "version": "3.9.12"
  },
  "orig_nbformat": 4,
  "vscode": {
   "interpreter": {
    "hash": "08a4c70043726e5f832ec7127b7ccfdc6056c84fa47e78a1d7cafc9f82ce7981"
   }
  }
 },
 "nbformat": 4,
 "nbformat_minor": 2
}

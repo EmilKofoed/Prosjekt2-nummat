{
 "cells": [
  {
   "cell_type": "markdown",
   "metadata": {},
   "source": [
    "## Task 1b)\n",
    "\n",
    "\n",
    "Something somethin establish orthonormal system of one-periodic functions. We start by showing that $\\sqrt 2 \\text{sin}(2 \\pi m x), m = 1,2, ..., \\text{cos}(2 \\pi 0 x) \\text{ and } \\sqrt 2 \\text{cos}(2 \\pi n x), n= 1,2,..., x \\in \\mathbb{T}$ are orthonormal using the inner product defined in the introduction, and that the special case $\\text{cos}(2 \\pi 0 x)$ is of length one under the induced norm. The following trigonometric identities will be usefull,\n",
    "$$ \n",
    "\\begin{align*}\n",
    "  \\sin x \\cos y &= \\frac{1}{2}\\big(\\sin(x + y) + \\sin(x - y)\\big).\\\\\n",
    "  \\sin x \\sin y &= \\frac{1}{2}\\big(\\cos(x - y) - \\cos(x + y)\\big)\\\\\n",
    "  \\cos x \\cos y &= \\frac{1}{2}\\big(\\cos(x - y) + \\cos(x + y)\\big)\\\\\n",
    "\\end{align*}\n",
    "\\\\\n",
    "$$\n",
    "We will also use a well known result from calculus namely, \n",
    "$$\n",
    "\\lim_{x \\to 0}\\frac{\\text{sin}(x)}{x} = 1. \n",
    "$$\n",
    "With these identities defined we start calculating the inner products. \n",
    "$$\n",
    "\\\\\n",
    "\\langle \\sqrt 2 \\text{sin}(2 \\pi n \\cdot), \\sqrt 2 \\text{cos}(2 \\pi m \\cdot) \\rangle = \\int_{0}^{1} \\sqrt 2 \\text{cos}(2 \\pi n x) \\space \\sqrt 2 \\text{sin}(2 \\pi m x) \\space dx = 2 \\int_{0}^{1} \\text{cos}(2 \\pi n x) \\space \\text{sin}(2 \\pi m x) \\space dx\n",
    "\\\\ \n",
    "\\text{using the first trigonometric identity we obtain the following integral} \\\\\n",
    "\n",
    "\\begin{align*}\n",
    "&\\int_{0}^{1} \\text{sin}(2\\pi nx + 2 \\pi mx) + \\text{sin}(2 \\pi nx- 2 \\pi mx) dx \\\\\n",
    "= &\\int_{0}^{1} \\text{sin}(2\\pi x (n +m)) + \\text{sin}(2 \\pi x (n-m)) dx\n",
    "\\end{align*}\n",
    "\\\\\n",
    "$$\n",
    "These integrals are not necessary to compute, Sine is an odd periodic-function, and the integral of an odd function over an integer number of periods is zero. Therefore, $$\\langle \\sqrt 2 \\text{sin}(2 \\pi n \\cdot), \\sqrt 2 \\text{cos}(2 \\pi m \\cdot) \\rangle = 0, n = 1,2,..., m = 1,2,... \\iff \\text{ The functions are orthogonal for all natural numbers, } m \\text{ and } n.$$ \n",
    "\n"
   ]
  }
 ],
 "metadata": {
  "kernelspec": {
   "display_name": "Python 3.9.12 ('base')",
   "language": "python",
   "name": "python3"
  },
  "language_info": {
   "codemirror_mode": {
    "name": "ipython",
    "version": 3
   },
   "file_extension": ".py",
   "mimetype": "text/x-python",
   "name": "python",
   "nbconvert_exporter": "python",
   "pygments_lexer": "ipython3",
   "version": "3.9.12"
  },
  "orig_nbformat": 4,
  "vscode": {
   "interpreter": {
    "hash": "08a4c70043726e5f832ec7127b7ccfdc6056c84fa47e78a1d7cafc9f82ce7981"
   }
  }
 },
 "nbformat": 4,
 "nbformat_minor": 2
}
